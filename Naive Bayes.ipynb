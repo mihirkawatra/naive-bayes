{
 "cells": [
  {
   "cell_type": "markdown",
   "metadata": {},
   "source": [
    "'''\n",
    "prob(tired / A B) = prob(A / tired)prob(B / tired)prob(tired)\n",
    "                     ________________________________________\n",
    "                     \n",
    "                             prob(A) prob(B)             \n",
    "'''"
   ]
  },
  {
   "cell_type": "code",
   "execution_count": 60,
   "metadata": {
    "collapsed": true
   },
   "outputs": [],
   "source": [
    "days = [\n",
    "[\"ran\", \"was tired\", \"woke up early\"],\n",
    "[\"ran\", \"was not tired\", \"didn't wake up early\"], \n",
    "[\"didn't run\", \"was tired\", \"woke up early\"],\n",
    "[\"ran\", \"was tired\", \"didn't wake up early\"],\n",
    "[\"didn't run\", \"was tired\", \"woke up early\"], \n",
    "[\"ran\", \"was not tired\", \"didn't wake up early\"],\n",
    "[\"ran\", \"was tired\", \"woke up early\"]\n",
    "]"
   ]
  },
  {
   "cell_type": "code",
   "execution_count": 61,
   "metadata": {
    "collapsed": true
   },
   "outputs": [],
   "source": [
    "new_day=[\"ran\",\"didn't wake up early\"]"
   ]
  },
  {
   "cell_type": "code",
   "execution_count": 62,
   "metadata": {
    "collapsed": true
   },
   "outputs": [],
   "source": [
    "prob_tired = len([d for d in days if d[1] == \"was tired\"]) / len(days)\n",
    "prob_ran = len([d for d in days if d[0] == \"ran\"]) / len(days)"
   ]
  },
  {
   "cell_type": "code",
   "execution_count": 63,
   "metadata": {},
   "outputs": [
    {
     "name": "stdout",
     "output_type": "stream",
     "text": [
      "0.42857142857142855\n"
     ]
    }
   ],
   "source": [
    "prob_ran_given_tired = len([d for d in days if (d[0] == \"ran\" and d[1] == \"was tired\")]) / len(days)\n",
    "print(prob_ran_given_tired)"
   ]
  },
  {
   "cell_type": "code",
   "execution_count": 64,
   "metadata": {},
   "outputs": [
    {
     "name": "stdout",
     "output_type": "stream",
     "text": [
      "Probability of being tired given that you ran: 0.42857142857142855\n"
     ]
    }
   ],
   "source": [
    "prob_tired_given_ran = (prob_ran_given_tired * prob_tired) / prob_ran\n",
    "print(\"Probability of being tired given that you ran: {0}\".format(prob_tired_given_ran))"
   ]
  },
  {
   "cell_type": "code",
   "execution_count": 65,
   "metadata": {
    "collapsed": true
   },
   "outputs": [],
   "source": [
    "prob_dnw_given_tired = len([d for d in days if d[2] == \"didn't wake up early\" and d[1] == \"was tired\"]) / len(days)"
   ]
  },
  {
   "cell_type": "code",
   "execution_count": 66,
   "metadata": {
    "collapsed": true
   },
   "outputs": [],
   "source": [
    "def calc_y_probability(y_label,days):\n",
    "    return len([d for d in days if d[1]==y_label]) / len(days)"
   ]
  },
  {
   "cell_type": "code",
   "execution_count": 67,
   "metadata": {},
   "outputs": [
    {
     "data": {
      "text/plain": [
       "0.7142857142857143"
      ]
     },
     "execution_count": 67,
     "metadata": {},
     "output_type": "execute_result"
    }
   ],
   "source": [
    "calc_y_probability(\"was tired\",days)"
   ]
  },
  {
   "cell_type": "code",
   "execution_count": 68,
   "metadata": {},
   "outputs": [
    {
     "data": {
      "text/plain": [
       "0.2857142857142857"
      ]
     },
     "execution_count": 68,
     "metadata": {},
     "output_type": "execute_result"
    }
   ],
   "source": [
    "calc_y_probability(\"was not tired\",days)"
   ]
  },
  {
   "cell_type": "code",
   "execution_count": 69,
   "metadata": {
    "collapsed": true
   },
   "outputs": [],
   "source": [
    "def calc_ran_probability_given_y(ran_label,y_label,days):\n",
    "    return len([d for d in days if d[0] == ran_label and d[1] == y_label]) / len(days)"
   ]
  },
  {
   "cell_type": "code",
   "execution_count": 70,
   "metadata": {
    "collapsed": true
   },
   "outputs": [],
   "source": [
    "def calc_wake_early_probability_given_y(woke_label,y_label,days):\n",
    "    return len([d for d in days if d[2] == woke_label and d[1] == y_label]) / len(days)"
   ]
  },
  {
   "cell_type": "code",
   "execution_count": 71,
   "metadata": {
    "collapsed": true
   },
   "outputs": [],
   "source": [
    "denominator = len([d for d in days if d[0]==new_day[0] and d[2]==new_day[1]])/len(days)"
   ]
  },
  {
   "cell_type": "code",
   "execution_count": 72,
   "metadata": {
    "collapsed": true
   },
   "outputs": [],
   "source": [
    "prob_tired = (calc_y_probability(\"was tired\",days)*calc_ran_probability_given_y(new_day[0],\"was tired\",days)*calc_wake_early_probability_given_y(new_day[1],\"was tired\",days)) / denominator"
   ]
  },
  {
   "cell_type": "code",
   "execution_count": 73,
   "metadata": {
    "collapsed": true
   },
   "outputs": [],
   "source": [
    "prob_not_tired = (calc_y_probability(\"was not tired\",days)*calc_ran_probability_given_y(new_day[0],\"was not tired\",days)*calc_wake_early_probability_given_y(new_day[1],\"was not tired\",days)) / denominator"
   ]
  },
  {
   "cell_type": "code",
   "execution_count": 74,
   "metadata": {},
   "outputs": [
    {
     "name": "stdout",
     "output_type": "stream",
     "text": [
      "0.10204081632653061\n"
     ]
    }
   ],
   "source": [
    "print(prob_tired)"
   ]
  },
  {
   "cell_type": "code",
   "execution_count": 75,
   "metadata": {},
   "outputs": [
    {
     "name": "stdout",
     "output_type": "stream",
     "text": [
      "0.054421768707482984\n"
     ]
    }
   ],
   "source": [
    "print(prob_not_tired)"
   ]
  },
  {
   "cell_type": "code",
   "execution_count": 76,
   "metadata": {},
   "outputs": [
    {
     "name": "stdout",
     "output_type": "stream",
     "text": [
      "Final classification for new day: was tired\n"
     ]
    }
   ],
   "source": [
    "classification = \"was tired\"\n",
    "if prob_not_tired > prob_tired:\n",
    "    classification = \"was not tired\"\n",
    "print(\"Final classification for new day: {0}\".format(classification))"
   ]
  }
 ],
 "metadata": {
  "kernelspec": {
   "display_name": "Python 3",
   "language": "python",
   "name": "python3"
  },
  "language_info": {
   "codemirror_mode": {
    "name": "ipython",
    "version": 3
   },
   "file_extension": ".py",
   "mimetype": "text/x-python",
   "name": "python",
   "nbconvert_exporter": "python",
   "pygments_lexer": "ipython3",
   "version": "3.6.4"
  }
 },
 "nbformat": 4,
 "nbformat_minor": 2
}
